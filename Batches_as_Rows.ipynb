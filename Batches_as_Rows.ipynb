{
  "nbformat": 4,
  "nbformat_minor": 0,
  "metadata": {
    "colab": {
      "provenance": [],
      "authorship_tag": "ABX9TyNoXm7zNu/SBfwEIW0HtbQ4",
      "include_colab_link": true
    },
    "kernelspec": {
      "name": "python3",
      "display_name": "Python 3"
    },
    "language_info": {
      "name": "python"
    }
  },
  "cells": [
    {
      "cell_type": "markdown",
      "metadata": {
        "id": "view-in-github",
        "colab_type": "text"
      },
      "source": [
        "<a href=\"https://colab.research.google.com/github/pistacliffcho/Experimental-Code/blob/master/Batches_as_Rows.ipynb\" target=\"_parent\"><img src=\"https://colab.research.google.com/assets/colab-badge.svg\" alt=\"Open In Colab\"/></a>"
      ]
    },
    {
      "cell_type": "code",
      "execution_count": null,
      "metadata": {
        "id": "YBvipC2ji5-j"
      },
      "outputs": [],
      "source": [
        "#@title Imports\n",
        "import pandas as pd\n",
        "import numpy as np\n",
        "import seaborn as sns\n",
        "import matplotlib as plt\n",
        "\n",
        "\n",
        "import tensorflow as tf\n",
        "from tensorflow import keras\n",
        "from tensorflow.keras import Model\n",
        "from tensorflow.keras import layers\n",
        "from tensorflow.keras.losses import MeanSquaredError"
      ]
    },
    {
      "cell_type": "code",
      "source": [
        "#@title Simulating ragged arrays\n",
        "\n",
        "def true_function(x):\n",
        "  \"\"\"Function we want to fit\"\"\"\n",
        "  ans = np.exp(x) + 3 * x +  2 * x**2\n",
        "  return ans\n",
        "\n",
        "def simulate_one_batch(fxn=true_function, mean_n=10):\n",
        "  \"\"\"Simulate a single batch where sum f(x) only is known\"\"\"\n",
        "  n = np.random.poisson(size=1, lam = mean_n-1) + 1\n",
        "  xs = np.random.normal(size=n)\n",
        "  y = fxn(xs) + np.random.normal(size=n)\n",
        "  return xs, np.sum(y)\n",
        "\n",
        "def simulate_batches(fxn=true_function, n_batches=3):\n",
        "  \"\"\"Simulates sets of batches with random batch sizes.\"\"\"\n",
        "  Xs=[]\n",
        "  Ys=[]\n",
        "  for _ in range(n_batches):\n",
        "    this_X, this_Y = simulate_one_batch(fxn=fxn)\n",
        "    Xs.append(this_X)\n",
        "    Ys.append(this_Y)\n",
        "  return {'X':Xs, 'Y':Ys}\n",
        "\n",
        "simulate_batches()"
      ],
      "metadata": {
        "colab": {
          "base_uri": "https://localhost:8080/"
        },
        "id": "YG8XdRkSkl8F",
        "outputId": "74e5117d-1c08-494b-8c34-f78eba18bfea"
      },
      "execution_count": null,
      "outputs": [
        {
          "output_type": "execute_result",
          "data": {
            "text/plain": [
              "{'X': [array([ 0.26212857,  0.38005195,  0.10269202, -0.53748817, -0.60165735,\n",
              "          0.56318383, -1.02050222, -1.55862381,  1.70384821, -0.87246213,\n",
              "          1.44090196, -0.50745536]),\n",
              "  array([-0.5836057 ,  0.58142638, -0.17321451, -0.45301449,  1.06215735,\n",
              "         -1.18189296, -1.11029173, -1.23316392, -1.30767073]),\n",
              "  array([-0.6634542 , -0.96462615,  1.72417977,  1.53050078,  0.15931002,\n",
              "         -0.09462272, -0.01976628, -0.52267019, -2.21472057, -0.53037211])],\n",
              " 'Y': [38.48165834070023, 7.94530854194803, 34.82081477491847]}"
            ]
          },
          "metadata": {},
          "execution_count": 573
        }
      ]
    },
    {
      "cell_type": "code",
      "source": [
        "#@title Plotting function\n",
        "def compare_model(model, true_f):\n",
        "  \"\"\"Visualize fit compared to truth\"\"\"\n",
        "  grid = np.linspace(start=-2, stop=2, num=100)\n",
        "  true_y = true_f(grid)\n",
        "  pred_y = []\n",
        "  for this_x in grid:\n",
        "    this_y = model.learned_f(\n",
        "        np.array([this_x]).reshape([1,1])\n",
        "      )\n",
        "    pred_y.append(this_y[0,0])\n",
        "\n",
        "  ax=sns.lineplot(\n",
        "    x=grid,\n",
        "    y=true_y,\n",
        "    label = 'True Function'\n",
        "  )\n",
        "  ax=sns.lineplot(\n",
        "    x=grid,\n",
        "    y=np.array(pred_y),\n",
        "    label = 'Fitted Function'\n",
        "  )\n",
        "  return ax"
      ],
      "metadata": {
        "id": "L1ecWl4r6XXd"
      },
      "execution_count": null,
      "outputs": []
    },
    {
      "cell_type": "code",
      "source": [
        "#@title Cubic fit model\n",
        "class PolynomialRaggedBatchModel(Model):\n",
        "  \"\"\"Uses cubic polynomial for the learned function\"\"\"\n",
        "  def __init__(self):\n",
        "    super().__init__()\n",
        "    self.coefs = tf.Variable([1., 2., 3., 4.])\n",
        "\n",
        "  def learned_f(self, x):\n",
        "    b = self.coefs\n",
        "    ans = b[0] + b[1] * x + b[2] * x ** 2 + b[3] * x ** 3\n",
        "    return ans\n",
        "\n",
        "  def summed_f(self, one_x_batch):\n",
        "    yhats = tf.map_fn(self.learned_f, one_x_batch)\n",
        "    ans = tf.math.reduce_sum(yhats)\n",
        "    return ans\n",
        "\n",
        "  def call(self, inputs):\n",
        "    ans = tf.map_fn(self.summed_f,\n",
        "                    inputs,\n",
        "                    fn_output_signature=tf.float32)\n",
        "    return ans\n",
        "\n",
        "poly_mod = PolynomialRaggedBatchModel()"
      ],
      "metadata": {
        "id": "wPdppXQq3F0l"
      },
      "execution_count": null,
      "outputs": []
    },
    {
      "cell_type": "code",
      "source": [
        "#@title Simulate and fit\n",
        "batches = simulate_batches(n_batches=1000)\n",
        "X = tf.ragged.constant(batches['X'])\n",
        "Y = tf.ragged.constant(batches['Y'])\n",
        "\n",
        "poly_mod.compile(optimizer=keras.optimizers.Adam(learning_rate=1e-2),\n",
        "                 loss=MeanSquaredError(),\n",
        "                 metrics=[keras.metrics.MeanSquaredError()],\n",
        "                 run_eagerly=False)\n",
        "\n",
        "poly_mod.fit(X, Y,\n",
        "             epochs=25,\n",
        "             batch_size=10)"
      ],
      "metadata": {
        "colab": {
          "base_uri": "https://localhost:8080/"
        },
        "id": "AWMwxCJz36D9",
        "outputId": "abfe8fb1-96e4-49cb-ac85-3b40800bd709"
      },
      "execution_count": null,
      "outputs": [
        {
          "output_type": "stream",
          "name": "stdout",
          "text": [
            "Epoch 1/25\n",
            "100/100 [==============================] - 3s 15ms/step - loss: 1326.2618 - mean_squared_error: 1326.2618\n",
            "Epoch 2/25\n",
            "100/100 [==============================] - 1s 15ms/step - loss: 788.5304 - mean_squared_error: 788.5306\n",
            "Epoch 3/25\n",
            "100/100 [==============================] - 2s 17ms/step - loss: 480.8527 - mean_squared_error: 480.8527\n",
            "Epoch 4/25\n",
            "100/100 [==============================] - 4s 39ms/step - loss: 296.6183 - mean_squared_error: 296.6182\n",
            "Epoch 5/25\n",
            "100/100 [==============================] - 1s 15ms/step - loss: 196.7039 - mean_squared_error: 196.7039\n",
            "Epoch 6/25\n",
            "100/100 [==============================] - 2s 17ms/step - loss: 144.9738 - mean_squared_error: 144.9738\n",
            "Epoch 7/25\n",
            "100/100 [==============================] - 2s 17ms/step - loss: 115.7603 - mean_squared_error: 115.7603\n",
            "Epoch 8/25\n",
            "100/100 [==============================] - 2s 19ms/step - loss: 95.3556 - mean_squared_error: 95.3556\n",
            "Epoch 9/25\n",
            "100/100 [==============================] - 2s 22ms/step - loss: 81.4107 - mean_squared_error: 81.4107\n",
            "Epoch 10/25\n",
            "100/100 [==============================] - 2s 23ms/step - loss: 69.2329 - mean_squared_error: 69.2328\n",
            "Epoch 11/25\n",
            "100/100 [==============================] - 3s 29ms/step - loss: 59.1426 - mean_squared_error: 59.1426\n",
            "Epoch 12/25\n",
            "100/100 [==============================] - 2s 22ms/step - loss: 50.5450 - mean_squared_error: 50.5450\n",
            "Epoch 13/25\n",
            "100/100 [==============================] - 3s 33ms/step - loss: 42.8312 - mean_squared_error: 42.8312\n",
            "Epoch 14/25\n",
            "100/100 [==============================] - 1s 15ms/step - loss: 36.6269 - mean_squared_error: 36.6269\n",
            "Epoch 15/25\n",
            "100/100 [==============================] - 2s 15ms/step - loss: 30.9660 - mean_squared_error: 30.9660\n",
            "Epoch 16/25\n",
            "100/100 [==============================] - 2s 15ms/step - loss: 26.4698 - mean_squared_error: 26.4698\n",
            "Epoch 17/25\n",
            "100/100 [==============================] - 3s 25ms/step - loss: 22.9386 - mean_squared_error: 22.9386\n",
            "Epoch 18/25\n",
            "100/100 [==============================] - 2s 15ms/step - loss: 19.9012 - mean_squared_error: 19.9012\n",
            "Epoch 19/25\n",
            "100/100 [==============================] - 1s 15ms/step - loss: 17.5547 - mean_squared_error: 17.5547\n",
            "Epoch 20/25\n",
            "100/100 [==============================] - 1s 15ms/step - loss: 15.7044 - mean_squared_error: 15.7044\n",
            "Epoch 21/25\n",
            "100/100 [==============================] - 2s 22ms/step - loss: 14.2829 - mean_squared_error: 14.2829\n",
            "Epoch 22/25\n",
            "100/100 [==============================] - 2s 16ms/step - loss: 13.2593 - mean_squared_error: 13.2593\n",
            "Epoch 23/25\n",
            "100/100 [==============================] - 1s 15ms/step - loss: 12.4717 - mean_squared_error: 12.4717\n",
            "Epoch 24/25\n",
            "100/100 [==============================] - 2s 15ms/step - loss: 11.8983 - mean_squared_error: 11.8983\n",
            "Epoch 25/25\n",
            "100/100 [==============================] - 1s 15ms/step - loss: 11.4906 - mean_squared_error: 11.4906\n"
          ]
        },
        {
          "output_type": "execute_result",
          "data": {
            "text/plain": [
              "<keras.src.callbacks.History at 0x7be1b2806170>"
            ]
          },
          "metadata": {},
          "execution_count": 576
        }
      ]
    },
    {
      "cell_type": "code",
      "source": [
        "#@title Comparing fit to real function\n",
        "ax=compare_model(poly_mod,\n",
        "              true_function)"
      ],
      "metadata": {
        "colab": {
          "base_uri": "https://localhost:8080/",
          "height": 430
        },
        "cellView": "form",
        "id": "jEh1qyIu5fSj",
        "outputId": "eadd0b9f-40d0-4ef9-e499-a92eb39d94de"
      },
      "execution_count": null,
      "outputs": [
        {
          "output_type": "display_data",
          "data": {
            "text/plain": [
              "<Figure size 640x480 with 1 Axes>"
            ],
            "image/png": "[encoded data removed]"
          },
          "metadata": {}
        }
      ]
    }
  ]
}